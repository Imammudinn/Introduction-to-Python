{
  "nbformat": 4,
  "nbformat_minor": 0,
  "metadata": {
    "colab": {
      "provenance": [],
      "authorship_tag": "ABX9TyN/w0zL+ndbNztLpquJBpLP",
      "include_colab_link": true
    },
    "kernelspec": {
      "name": "python3",
      "display_name": "Python 3"
    },
    "language_info": {
      "name": "python"
    }
  },
  "cells": [
    {
      "cell_type": "markdown",
      "metadata": {
        "id": "view-in-github",
        "colab_type": "text"
      },
      "source": [
        "<a href=\"https://colab.research.google.com/github/Imammudinn/Introduction-to-Python/blob/main/Task_introduction_to_python.ipynb\" target=\"_parent\"><img src=\"https://colab.research.google.com/assets/colab-badge.svg\" alt=\"Open In Colab\"/></a>"
      ]
    },
    {
      "cell_type": "code",
      "execution_count": 1,
      "metadata": {
        "colab": {
          "base_uri": "https://localhost:8080/"
        },
        "id": "tHpiET_rVBbs",
        "outputId": "afabcfd6-4739-4e57-9389-6a4c2188a2d7"
      },
      "outputs": [
        {
          "output_type": "stream",
          "name": "stdout",
          "text": [
            "Masukkan nama mahasiswa: Muhammad Imam Mudin Badali\n",
            "Masukkan NIM mahasiswa: 123456789\n",
            "Masukkan nilai ujian (0–100): 90\n",
            "\n",
            "Tipe Data:\n",
            "Nama       : <class 'str'>\n",
            "NIM        : <class 'str'>\n",
            "Nilai Ujian: <class 'float'>\n"
          ]
        }
      ],
      "source": [
        "# Meminta input dari pengguna\n",
        "nama = input(\"Masukkan nama mahasiswa: \")\n",
        "nim = input(\"Masukkan NIM mahasiswa: \")\n",
        "nilai = float(input(\"Masukkan nilai ujian (0–100): \"))\n",
        "\n",
        "# Menampilkan tipe data dari setiap input\n",
        "print(\"\\nTipe Data:\")\n",
        "print(f\"Nama       : {type(nama)}\")\n",
        "print(f\"NIM        : {type(nim)}\")\n",
        "print(f\"Nilai Ujian: {type(nilai)}\")\n",
        "\n",
        "# Menentukan kategori nilai dengan if-elif-else\n",
        "if 85 <= nilai <= 100:\n",
        "    kategori = \"A (Sangat Baik)\"\n",
        "elif 75 <= nilai < 85:\n",
        "    kategori = \"B (Baik)\"\n",
        "elif 60 <= nilai < 75:\n",
        "    kategori = \"C (Cukup)\"\n",
        "elif 40 <= nilai < 60:\n",
        "    kategori = \"D (Kurang)\"\n",
        "else:\n",
        "    kategori = \"E (Sangat Kurang)\""
      ]
    },
    {
      "cell_type": "code",
      "source": [
        "# Menampilkan hasil\n",
        "print(\"\\nHasil:\")\n",
        "print(f\"Nama Mahasiswa : {nama}\")\n",
        "print(f\"NIM Mahasiswa  : {nim}\")\n",
        "print(f\"Nilai Ujian    : {nilai}\")\n",
        "print(f\"Kategori Nilai : {kategori}\")"
      ],
      "metadata": {
        "colab": {
          "base_uri": "https://localhost:8080/"
        },
        "id": "p04v9I7LVZSq",
        "outputId": "b9125df1-800a-40e8-fafc-965093b77526"
      },
      "execution_count": 2,
      "outputs": [
        {
          "output_type": "stream",
          "name": "stdout",
          "text": [
            "\n",
            "Hasil:\n",
            "Nama Mahasiswa : Muhammad Imam Mudin Badali\n",
            "NIM Mahasiswa  : 123456789\n",
            "Nilai Ujian    : 90.0\n",
            "Kategori Nilai : A (Sangat Baik)\n"
          ]
        }
      ]
    }
  ]
}